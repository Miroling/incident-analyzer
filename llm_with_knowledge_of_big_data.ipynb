{
 "cells": [
  {
   "cell_type": "markdown",
   "source": [
    "# Building high level sample"
   ],
   "metadata": {
    "collapsed": false
   },
   "id": "6d923d395f4a4d3c"
  },
  {
   "cell_type": "code",
   "execution_count": 25,
   "outputs": [],
   "source": [
    "import os\n",
    "from llama_index.callbacks import LlamaDebugHandler, CallbackManager\n",
    "from llama_index.node_parser import SimpleNodeParser\n",
    "from llama_index.llms import OpenAI\n",
    "from llama_index import VectorStoreIndex, SimpleDirectoryReader, OpenAIEmbedding, PromptHelper, ServiceContext, \\\n",
    "    StorageContext, load_index_from_storage\n"
   ],
   "metadata": {
    "collapsed": false,
    "ExecuteTime": {
     "end_time": "2024-01-21T12:53:09.384437900Z",
     "start_time": "2024-01-21T12:53:09.357202600Z"
    }
   },
   "id": "8ddcd5b79084278c"
  },
  {
   "cell_type": "markdown",
   "source": [
    "# Set up GPT Key "
   ],
   "metadata": {
    "collapsed": false
   },
   "id": "d88437665940bcaa"
  },
  {
   "cell_type": "code",
   "execution_count": 26,
   "outputs": [],
   "source": [
    "OPENAI_API_KEY = \"\"\n",
    "os.environ[\"OPENAI_API_KEY\"] = OPENAI_API_KEY"
   ],
   "metadata": {
    "collapsed": false,
    "ExecuteTime": {
     "end_time": "2024-01-21T12:53:09.393486600Z",
     "start_time": "2024-01-21T12:53:09.362702800Z"
    }
   },
   "id": "f00f1bcd10b9e0ee"
  },
  {
   "cell_type": "markdown",
   "source": [
    "# Set up llm"
   ],
   "metadata": {
    "collapsed": false
   },
   "id": "704c12a220ad1962"
  },
  {
   "cell_type": "code",
   "execution_count": 27,
   "outputs": [],
   "source": [
    "# Defining ChatGPT model\n",
    "OPENAI_MODEL = \"gpt-3.5-turbo-16k\"\n",
    "\n",
    "# ChatGPT completion setup\n",
    "OPENAI_COMPLETION_OPTIONS = {\n",
    "    \"temperature\": 0.1,  # respond to accuracy of llm (from 0.1 up to 2)\n",
    "    \"max_tokens\": 1000,  # max amount of tokens that llm is uses \n",
    "    \"top_p\": 1,  # top value of temperature  \n",
    "    \"frequency_penalty\": 0,\n",
    "    \"presence_penalty\": 0,\n",
    "    \"request_timeout\": 60.0,\n",
    "}\n",
    "\n",
    "# Base prompt\n",
    "LLM_BASE_PROMPT = \"\"\n"
   ],
   "metadata": {
    "collapsed": false,
    "ExecuteTime": {
     "end_time": "2024-01-21T12:53:09.394486600Z",
     "start_time": "2024-01-21T12:53:09.367673600Z"
    }
   },
   "id": "ba153b38ce09f38e"
  },
  {
   "cell_type": "markdown",
   "source": [
    "# Create service context"
   ],
   "metadata": {
    "collapsed": false
   },
   "id": "cec5aa438f53c33b"
  },
  {
   "cell_type": "code",
   "execution_count": 28,
   "outputs": [],
   "source": [
    "llm = OpenAI(model=OPENAI_MODEL)\n",
    "embed_model = OpenAIEmbedding()\n",
    "\n",
    "# Set up Node parser\n",
    "node_parser = SimpleNodeParser.from_defaults(\n",
    "    chunk_size=1024,\n",
    "    chunk_overlap=20\n",
    ")\n",
    "\n",
    "prompt_helper = PromptHelper(\n",
    "    context_window=4096,\n",
    "    num_output=256,\n",
    "    chunk_overlap_ratio=0.1,\n",
    "    chunk_size_limit=None\n",
    ")\n",
    "\n",
    "llama_debug = LlamaDebugHandler(print_trace_on_end=True)\n",
    "callback_manager = CallbackManager([llama_debug])\n",
    "\n",
    "service_context = ServiceContext.from_defaults(\n",
    "    llm=llm,\n",
    "    embed_model=embed_model,\n",
    "    node_parser=node_parser,\n",
    "    prompt_helper=prompt_helper,\n",
    "    system_prompt=LLM_BASE_PROMPT,\n",
    "    callback_manager=callback_manager\n",
    ")   "
   ],
   "metadata": {
    "collapsed": false,
    "ExecuteTime": {
     "end_time": "2024-01-21T12:53:09.395989Z",
     "start_time": "2024-01-21T12:53:09.374002600Z"
    }
   },
   "id": "6b5f6a7308208b80"
  },
  {
   "cell_type": "markdown",
   "source": [
    "# Indexing"
   ],
   "metadata": {
    "collapsed": false
   },
   "id": "370182ba84943023"
  },
  {
   "cell_type": "code",
   "execution_count": 29,
   "outputs": [
    {
     "name": "stderr",
     "output_type": "stream",
     "text": [
      "Advanced encoding /SymbolSetEncoding not implemented yet\n",
      "Advanced encoding /SymbolSetEncoding not implemented yet\n",
      "Advanced encoding /SymbolSetEncoding not implemented yet\n",
      "Advanced encoding /SymbolSetEncoding not implemented yet\n",
      "Advanced encoding /SymbolSetEncoding not implemented yet\n",
      "Advanced encoding /SymbolSetEncoding not implemented yet\n"
     ]
    },
    {
     "name": "stdout",
     "output_type": "stream",
     "text": [
      "**********\n",
      "Trace: index_construction\n",
      "    |_CBEventType.EMBEDDING ->  2.329824 seconds\n",
      "    |_CBEventType.EMBEDDING ->  1.592508 seconds\n",
      "**********\n"
     ]
    }
   ],
   "source": [
    "if not os.path.exists('./storage'):\n",
    "    # Reading files in directory\n",
    "    documents = SimpleDirectoryReader('data').load_data()\n",
    "    # Indexing data in embedding of Vector store\n",
    "    index = VectorStoreIndex.from_documents(\n",
    "        documents,\n",
    "        service_context=service_context\n",
    "    )\n",
    "    \n",
    "    # Creates storage of indexes that we do not have to vectorise them once again\n",
    "    index.storage_context.persist()\n",
    "else:\n",
    "    # Load stored indexes\n",
    "    storage_context = StorageContext.from_defaults(persist_dir='./storage')\n",
    "    index = load_index_from_storage(\n",
    "        storage_context=storage_context,\n",
    "        service_context=service_context,\n",
    "    )\n",
    " "
   ],
   "metadata": {
    "collapsed": false,
    "ExecuteTime": {
     "end_time": "2024-01-21T12:53:19.869990100Z",
     "start_time": "2024-01-21T12:53:09.384437900Z"
    }
   },
   "id": "74efbd322e7a93c4"
  },
  {
   "cell_type": "markdown",
   "source": [
    "# Creating an engine of llm\n",
    "Query engine has several types of use: simple querying, chat mode, stream chat. \n",
    "All of those can be used asynchronously. "
   ],
   "metadata": {
    "collapsed": false
   },
   "id": "c3c1fa50ca401423"
  },
  {
   "cell_type": "code",
   "execution_count": null,
   "outputs": [],
   "source": [
    "query_engine = index.as_chat_engine()"
   ],
   "metadata": {
    "collapsed": false
   },
   "id": "4fbc998698652084"
  },
  {
   "cell_type": "code",
   "execution_count": 30,
   "outputs": [
    {
     "name": "stdout",
     "output_type": "stream",
     "text": [
      "**********\n",
      "Trace: chat\n",
      "    |_CBEventType.AGENT_STEP ->  12.036483 seconds\n",
      "      |_CBEventType.LLM ->  2.180296 seconds\n",
      "      |_CBEventType.FUNCTION_CALL ->  5.638281 seconds\n",
      "        |_CBEventType.QUERY ->  5.638281 seconds\n",
      "          |_CBEventType.RETRIEVE ->  0.283716 seconds\n",
      "            |_CBEventType.EMBEDDING ->  0.27217 seconds\n",
      "          |_CBEventType.SYNTHESIZE ->  5.354565 seconds\n",
      "            |_CBEventType.TEMPLATING ->  0.001 seconds\n",
      "            |_CBEventType.LLM ->  5.350564 seconds\n",
      "      |_CBEventType.LLM ->  4.215815 seconds\n",
      "**********\n",
      "The unit structure of the Introduction to Big Data chapter includes the following sections:\n",
      "\n",
      "1.0 Objectives\n",
      "1.1 Introduction to Big Data\n",
      "1.2 Characteristics of Data and Big Data\n",
      "1.3 Evolution of Big Data\n",
      "1.4 Definition of Big Data\n",
      "1.5 Challenges with big data\n",
      "1.6 Why Big data?\n",
      "1.7 Data Warehouse environment\n",
      "1.8 Traditional Business Intelligence versus Big Data\n",
      "1.9 State of Practice in Analytics\n",
      "1.10 Key roles for New Big Data Ecosystems\n",
      "1.11 Examples of big Data Analytics\n",
      "Summary\n",
      "Review Questions\n"
     ]
    }
   ],
   "source": [
    "response = query_engine.chat(\"Give me unit structure of Introduction to big data\")\n",
    "print(response)"
   ],
   "metadata": {
    "collapsed": false,
    "ExecuteTime": {
     "start_time": "2024-01-21T12:53:19.864447100Z"
    }
   },
   "id": "b4fa83795975f806"
  },
  {
   "cell_type": "code",
   "execution_count": 31,
   "outputs": [
    {
     "name": "stdout",
     "output_type": "stream",
     "text": [
      "**********\n",
      "Trace: chat\n",
      "    |_CBEventType.AGENT_STEP ->  11.03429 seconds\n",
      "      |_CBEventType.LLM ->  3.76138 seconds\n",
      "      |_CBEventType.FUNCTION_CALL ->  2.769968 seconds\n",
      "        |_CBEventType.QUERY ->  2.769968 seconds\n",
      "          |_CBEventType.RETRIEVE ->  0.375452 seconds\n",
      "            |_CBEventType.EMBEDDING ->  0.363945 seconds\n",
      "          |_CBEventType.SYNTHESIZE ->  2.394516 seconds\n",
      "            |_CBEventType.TEMPLATING ->  0.0 seconds\n",
      "            |_CBEventType.LLM ->  2.390011 seconds\n",
      "      |_CBEventType.LLM ->  4.500869 seconds\n",
      "**********\n",
      "The main objective of Big Data is to help organizations derive new value and create a competitive advantage from their most valuable asset: information. It aims to drive efficiency, improve quality, and provide personalized products and services, leading to enhanced customer satisfaction and profitability. Big Data analytics also enable organizations to explore new avenues of investigation and gain deeper insights that were not previously possible.\n"
     ]
    }
   ],
   "source": [
    "response = query_engine.chat(\"What is main objective of Big Data\")\n",
    "print(response)"
   ],
   "metadata": {
    "collapsed": false,
    "ExecuteTime": {
     "end_time": "2024-01-21T12:53:42.967597500Z",
     "start_time": "2024-01-21T12:53:31.917935700Z"
    }
   },
   "id": "1ef01016beb0f69d"
  },
  {
   "cell_type": "code",
   "execution_count": 32,
   "outputs": [
    {
     "name": "stdout",
     "output_type": "stream",
     "text": [
      "**********\n",
      "Trace: chat\n",
      "    |_CBEventType.AGENT_STEP ->  27.617718 seconds\n",
      "      |_CBEventType.LLM ->  1.550344 seconds\n",
      "      |_CBEventType.FUNCTION_CALL ->  6.65849 seconds\n",
      "        |_CBEventType.QUERY ->  6.65849 seconds\n",
      "          |_CBEventType.RETRIEVE ->  0.482441 seconds\n",
      "            |_CBEventType.EMBEDDING ->  0.469905 seconds\n",
      "          |_CBEventType.SYNTHESIZE ->  6.176049 seconds\n",
      "            |_CBEventType.TEMPLATING ->  0.0 seconds\n",
      "            |_CBEventType.LLM ->  6.171545 seconds\n",
      "      |_CBEventType.LLM ->  19.407831 seconds\n",
      "**********\n",
      "The key roles of the new big data ecosystems include:\n",
      "\n",
      "1. Deep Analytical Talent: These individuals possess strong analytical skills and technical expertise. They have advanced training in quantitative disciplines such as mathematics, statistics, and machine learning. They are capable of handling raw, unstructured data and applying complex analytical techniques at massive scales.\n",
      "\n",
      "2. Data Savvy Professionals: This group has a basic knowledge of statistics or machine learning and can define key questions that can be answered using advanced analytics. They may not have the same technical depth as deep analytical talent but have a good understanding of working with data and appreciate the work done by data scientists and other analytical experts.\n",
      "\n",
      "3. Data Engineers: These professionals are responsible for designing, building, and maintaining the infrastructure required for big data processing. They work with technologies such as Hadoop, Spark, and other distributed computing frameworks to ensure efficient data storage, processing, and retrieval.\n",
      "\n",
      "4. Data Architects: Data architects are responsible for designing the overall data architecture of the big data ecosystem. They define the data models, data integration strategies, and data governance policies to ensure data quality, consistency, and security.\n",
      "\n",
      "5. Data Stewards: Data stewards are responsible for managing and maintaining the quality, integrity, and security of data within the big data ecosystem. They ensure compliance with data privacy regulations and establish data governance frameworks.\n",
      "\n",
      "6. Business Analysts: Business analysts play a crucial role in understanding business requirements and translating them into data-driven insights. They work closely with data scientists and other analytical experts to identify patterns, trends, and opportunities in the data that can drive business decisions.\n",
      "\n",
      "7. Data Scientists: Data scientists are responsible for developing and applying advanced analytical models and algorithms to extract insights from big data. They have expertise in statistical analysis, machine learning, and data visualization techniques.\n",
      "\n",
      "8. Data Visualization Experts: These professionals specialize in visualizing complex data sets and presenting them in a visually appealing and understandable manner. They use tools and techniques such as data visualization software, dashboards, and infographics to communicate insights effectively.\n",
      "\n",
      "9. Data Governance Specialists: Data governance specialists are responsible for establishing and enforcing policies, procedures, and standards for data management within the big data ecosystem. They ensure data quality, privacy, and compliance with regulatory requirements.\n",
      "\n",
      "10. Data Security Experts: Data security experts focus on protecting the confidentiality, integrity, and availability of data within the big data ecosystem. They implement security measures, such as encryption, access controls, and monitoring, to safeguard sensitive data from unauthorized access or breaches.\n",
      "\n",
      "These roles work together to create a collaborative and efficient big data ecosystem that can effectively leverage data for insights and decision-making.\n"
     ]
    }
   ],
   "source": [
    "response = query_engine.chat(\"What is Key roles of the new big data ecosystems\")\n",
    "print(response)"
   ],
   "metadata": {
    "collapsed": false,
    "ExecuteTime": {
     "end_time": "2024-01-21T12:54:10.601139600Z",
     "start_time": "2024-01-21T12:53:42.964491Z"
    }
   },
   "id": "c3d37d2426d23ce6"
  },
  {
   "cell_type": "code",
   "execution_count": null,
   "outputs": [],
   "source": [
    "# Building "
   ],
   "metadata": {
    "collapsed": false
   },
   "id": "b1c17d2ed36dd2ab"
  }
 ],
 "metadata": {
  "kernelspec": {
   "display_name": "Python 3",
   "language": "python",
   "name": "python3"
  },
  "language_info": {
   "codemirror_mode": {
    "name": "ipython",
    "version": 2
   },
   "file_extension": ".py",
   "mimetype": "text/x-python",
   "name": "python",
   "nbconvert_exporter": "python",
   "pygments_lexer": "ipython2",
   "version": "2.7.6"
  }
 },
 "nbformat": 4,
 "nbformat_minor": 5
}
