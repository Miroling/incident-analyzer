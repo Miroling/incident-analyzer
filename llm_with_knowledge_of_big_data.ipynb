{
 "cells": [
  {
   "cell_type": "code",
   "execution_count": 15,
   "id": "46961183d42d626e",
   "metadata": {
    "collapsed": false,
    "ExecuteTime": {
     "end_time": "2024-02-16T15:08:00.675200900Z",
     "start_time": "2024-02-16T15:07:57.050152300Z"
    }
   },
   "outputs": [
    {
     "name": "stdout",
     "output_type": "stream",
     "text": [
      "Requirement already satisfied: llama-index-llms-ollama in d:\\apibest-practice\\venv\\lib\\site-packages (0.1.1)\n",
      "Requirement already satisfied: llama-index-core<0.11.0,>=0.10.1 in d:\\apibest-practice\\venv\\lib\\site-packages (from llama-index-llms-ollama) (0.10.5)\n",
      "Requirement already satisfied: PyYAML>=6.0.1 in d:\\apibest-practice\\venv\\lib\\site-packages (from llama-index-core<0.11.0,>=0.10.1->llama-index-llms-ollama) (6.0.1)\n",
      "Requirement already satisfied: SQLAlchemy[asyncio]>=1.4.49 in d:\\apibest-practice\\venv\\lib\\site-packages (from llama-index-core<0.11.0,>=0.10.1->llama-index-llms-ollama) (2.0.27)\n",
      "Requirement already satisfied: aiohttp<4.0.0,>=3.8.6 in d:\\apibest-practice\\venv\\lib\\site-packages (from llama-index-core<0.11.0,>=0.10.1->llama-index-llms-ollama) (3.9.3)\n",
      "Requirement already satisfied: dataclasses-json in d:\\apibest-practice\\venv\\lib\\site-packages (from llama-index-core<0.11.0,>=0.10.1->llama-index-llms-ollama) (0.6.4)\n",
      "Requirement already satisfied: deprecated>=1.2.9.3 in d:\\apibest-practice\\venv\\lib\\site-packages (from llama-index-core<0.11.0,>=0.10.1->llama-index-llms-ollama) (1.2.14)\n",
      "Requirement already satisfied: dirtyjson<2.0.0,>=1.0.8 in d:\\apibest-practice\\venv\\lib\\site-packages (from llama-index-core<0.11.0,>=0.10.1->llama-index-llms-ollama) (1.0.8)\n",
      "Requirement already satisfied: fsspec>=2023.5.0 in d:\\apibest-practice\\venv\\lib\\site-packages (from llama-index-core<0.11.0,>=0.10.1->llama-index-llms-ollama) (2024.2.0)\n",
      "Requirement already satisfied: httpx in d:\\apibest-practice\\venv\\lib\\site-packages (from llama-index-core<0.11.0,>=0.10.1->llama-index-llms-ollama) (0.26.0)\n",
      "Requirement already satisfied: nest-asyncio<2.0.0,>=1.5.8 in d:\\apibest-practice\\venv\\lib\\site-packages (from llama-index-core<0.11.0,>=0.10.1->llama-index-llms-ollama) (1.6.0)\n",
      "Requirement already satisfied: networkx>=3.0 in d:\\apibest-practice\\venv\\lib\\site-packages (from llama-index-core<0.11.0,>=0.10.1->llama-index-llms-ollama) (3.2.1)\n",
      "Requirement already satisfied: nltk<4.0.0,>=3.8.1 in d:\\apibest-practice\\venv\\lib\\site-packages (from llama-index-core<0.11.0,>=0.10.1->llama-index-llms-ollama) (3.8.1)\n",
      "Requirement already satisfied: numpy in d:\\apibest-practice\\venv\\lib\\site-packages (from llama-index-core<0.11.0,>=0.10.1->llama-index-llms-ollama) (1.26.4)\n",
      "Requirement already satisfied: openai>=1.1.0 in d:\\apibest-practice\\venv\\lib\\site-packages (from llama-index-core<0.11.0,>=0.10.1->llama-index-llms-ollama) (1.12.0)\n",
      "Requirement already satisfied: pandas in d:\\apibest-practice\\venv\\lib\\site-packages (from llama-index-core<0.11.0,>=0.10.1->llama-index-llms-ollama) (2.2.0)\n",
      "Requirement already satisfied: pillow>=9.0.0 in d:\\apibest-practice\\venv\\lib\\site-packages (from llama-index-core<0.11.0,>=0.10.1->llama-index-llms-ollama) (10.2.0)\n",
      "Requirement already satisfied: requests>=2.31.0 in d:\\apibest-practice\\venv\\lib\\site-packages (from llama-index-core<0.11.0,>=0.10.1->llama-index-llms-ollama) (2.31.0)\n",
      "Requirement already satisfied: tenacity<9.0.0,>=8.2.0 in d:\\apibest-practice\\venv\\lib\\site-packages (from llama-index-core<0.11.0,>=0.10.1->llama-index-llms-ollama) (8.2.3)\n",
      "Requirement already satisfied: tiktoken>=0.3.3 in d:\\apibest-practice\\venv\\lib\\site-packages (from llama-index-core<0.11.0,>=0.10.1->llama-index-llms-ollama) (0.6.0)\n",
      "Requirement already satisfied: tqdm<5.0.0,>=4.66.1 in d:\\apibest-practice\\venv\\lib\\site-packages (from llama-index-core<0.11.0,>=0.10.1->llama-index-llms-ollama) (4.66.2)\n",
      "Requirement already satisfied: typing-extensions>=4.5.0 in d:\\apibest-practice\\venv\\lib\\site-packages (from llama-index-core<0.11.0,>=0.10.1->llama-index-llms-ollama) (4.9.0)\n",
      "Requirement already satisfied: typing-inspect>=0.8.0 in d:\\apibest-practice\\venv\\lib\\site-packages (from llama-index-core<0.11.0,>=0.10.1->llama-index-llms-ollama) (0.9.0)\n",
      "Requirement already satisfied: aiosignal>=1.1.2 in d:\\apibest-practice\\venv\\lib\\site-packages (from aiohttp<4.0.0,>=3.8.6->llama-index-core<0.11.0,>=0.10.1->llama-index-llms-ollama) (1.3.1)\n",
      "Requirement already satisfied: attrs>=17.3.0 in d:\\apibest-practice\\venv\\lib\\site-packages (from aiohttp<4.0.0,>=3.8.6->llama-index-core<0.11.0,>=0.10.1->llama-index-llms-ollama) (23.2.0)\n",
      "Requirement already satisfied: frozenlist>=1.1.1 in d:\\apibest-practice\\venv\\lib\\site-packages (from aiohttp<4.0.0,>=3.8.6->llama-index-core<0.11.0,>=0.10.1->llama-index-llms-ollama) (1.4.1)\n",
      "Requirement already satisfied: multidict<7.0,>=4.5 in d:\\apibest-practice\\venv\\lib\\site-packages (from aiohttp<4.0.0,>=3.8.6->llama-index-core<0.11.0,>=0.10.1->llama-index-llms-ollama) (6.0.5)\n",
      "Requirement already satisfied: yarl<2.0,>=1.0 in d:\\apibest-practice\\venv\\lib\\site-packages (from aiohttp<4.0.0,>=3.8.6->llama-index-core<0.11.0,>=0.10.1->llama-index-llms-ollama) (1.9.4)\n",
      "Requirement already satisfied: wrapt<2,>=1.10 in d:\\apibest-practice\\venv\\lib\\site-packages (from deprecated>=1.2.9.3->llama-index-core<0.11.0,>=0.10.1->llama-index-llms-ollama) (1.16.0)\n",
      "Requirement already satisfied: click in d:\\apibest-practice\\venv\\lib\\site-packages (from nltk<4.0.0,>=3.8.1->llama-index-core<0.11.0,>=0.10.1->llama-index-llms-ollama) (8.1.7)\n",
      "Requirement already satisfied: joblib in d:\\apibest-practice\\venv\\lib\\site-packages (from nltk<4.0.0,>=3.8.1->llama-index-core<0.11.0,>=0.10.1->llama-index-llms-ollama) (1.3.2)\n",
      "Requirement already satisfied: regex>=2021.8.3 in d:\\apibest-practice\\venv\\lib\\site-packages (from nltk<4.0.0,>=3.8.1->llama-index-core<0.11.0,>=0.10.1->llama-index-llms-ollama) (2023.12.25)\n",
      "Requirement already satisfied: anyio<5,>=3.5.0 in d:\\apibest-practice\\venv\\lib\\site-packages (from openai>=1.1.0->llama-index-core<0.11.0,>=0.10.1->llama-index-llms-ollama) (4.2.0)\n",
      "Requirement already satisfied: distro<2,>=1.7.0 in d:\\apibest-practice\\venv\\lib\\site-packages (from openai>=1.1.0->llama-index-core<0.11.0,>=0.10.1->llama-index-llms-ollama) (1.9.0)\n",
      "Requirement already satisfied: pydantic<3,>=1.9.0 in d:\\apibest-practice\\venv\\lib\\site-packages (from openai>=1.1.0->llama-index-core<0.11.0,>=0.10.1->llama-index-llms-ollama) (2.6.1)\n",
      "Requirement already satisfied: sniffio in d:\\apibest-practice\\venv\\lib\\site-packages (from openai>=1.1.0->llama-index-core<0.11.0,>=0.10.1->llama-index-llms-ollama) (1.3.0)\n",
      "Requirement already satisfied: certifi in d:\\apibest-practice\\venv\\lib\\site-packages (from httpx->llama-index-core<0.11.0,>=0.10.1->llama-index-llms-ollama) (2024.2.2)\n",
      "Requirement already satisfied: httpcore==1.* in d:\\apibest-practice\\venv\\lib\\site-packages (from httpx->llama-index-core<0.11.0,>=0.10.1->llama-index-llms-ollama) (1.0.3)\n",
      "Requirement already satisfied: idna in d:\\apibest-practice\\venv\\lib\\site-packages (from httpx->llama-index-core<0.11.0,>=0.10.1->llama-index-llms-ollama) (3.6)\n",
      "Requirement already satisfied: h11<0.15,>=0.13 in d:\\apibest-practice\\venv\\lib\\site-packages (from httpcore==1.*->httpx->llama-index-core<0.11.0,>=0.10.1->llama-index-llms-ollama) (0.14.0)\n",
      "Requirement already satisfied: charset-normalizer<4,>=2 in d:\\apibest-practice\\venv\\lib\\site-packages (from requests>=2.31.0->llama-index-core<0.11.0,>=0.10.1->llama-index-llms-ollama) (3.3.2)\n",
      "Requirement already satisfied: urllib3<3,>=1.21.1 in d:\\apibest-practice\\venv\\lib\\site-packages (from requests>=2.31.0->llama-index-core<0.11.0,>=0.10.1->llama-index-llms-ollama) (2.2.0)\n",
      "Requirement already satisfied: greenlet!=0.4.17 in d:\\apibest-practice\\venv\\lib\\site-packages (from SQLAlchemy[asyncio]>=1.4.49->llama-index-core<0.11.0,>=0.10.1->llama-index-llms-ollama) (3.0.3)\n",
      "Requirement already satisfied: colorama in d:\\apibest-practice\\venv\\lib\\site-packages (from tqdm<5.0.0,>=4.66.1->llama-index-core<0.11.0,>=0.10.1->llama-index-llms-ollama) (0.4.6)\n",
      "Requirement already satisfied: mypy-extensions>=0.3.0 in d:\\apibest-practice\\venv\\lib\\site-packages (from typing-inspect>=0.8.0->llama-index-core<0.11.0,>=0.10.1->llama-index-llms-ollama) (1.0.0)\n",
      "Requirement already satisfied: marshmallow<4.0.0,>=3.18.0 in d:\\apibest-practice\\venv\\lib\\site-packages (from dataclasses-json->llama-index-core<0.11.0,>=0.10.1->llama-index-llms-ollama) (3.20.2)\n",
      "Requirement already satisfied: python-dateutil>=2.8.2 in d:\\apibest-practice\\venv\\lib\\site-packages (from pandas->llama-index-core<0.11.0,>=0.10.1->llama-index-llms-ollama) (2.8.2)\n",
      "Requirement already satisfied: pytz>=2020.1 in d:\\apibest-practice\\venv\\lib\\site-packages (from pandas->llama-index-core<0.11.0,>=0.10.1->llama-index-llms-ollama) (2024.1)\n",
      "Requirement already satisfied: tzdata>=2022.7 in d:\\apibest-practice\\venv\\lib\\site-packages (from pandas->llama-index-core<0.11.0,>=0.10.1->llama-index-llms-ollama) (2024.1)\n",
      "Requirement already satisfied: packaging>=17.0 in d:\\apibest-practice\\venv\\lib\\site-packages (from marshmallow<4.0.0,>=3.18.0->dataclasses-json->llama-index-core<0.11.0,>=0.10.1->llama-index-llms-ollama) (23.2)\n",
      "Requirement already satisfied: annotated-types>=0.4.0 in d:\\apibest-practice\\venv\\lib\\site-packages (from pydantic<3,>=1.9.0->openai>=1.1.0->llama-index-core<0.11.0,>=0.10.1->llama-index-llms-ollama) (0.6.0)\n",
      "Requirement already satisfied: pydantic-core==2.16.2 in d:\\apibest-practice\\venv\\lib\\site-packages (from pydantic<3,>=1.9.0->openai>=1.1.0->llama-index-core<0.11.0,>=0.10.1->llama-index-llms-ollama) (2.16.2)\n",
      "Requirement already satisfied: six>=1.5 in d:\\apibest-practice\\venv\\lib\\site-packages (from python-dateutil>=2.8.2->pandas->llama-index-core<0.11.0,>=0.10.1->llama-index-llms-ollama) (1.16.0)\n",
      "Note: you may need to restart the kernel to use updated packages.\n"
     ]
    },
    {
     "name": "stderr",
     "output_type": "stream",
     "text": [
      "WARNING: There was an error checking the latest version of pip.\n"
     ]
    }
   ],
   "source": [
    "%pip install llama-index-llms-ollama"
   ]
  },
  {
   "cell_type": "code",
   "execution_count": 16,
   "id": "bf96edc49e38bab1",
   "metadata": {
    "collapsed": false,
    "ExecuteTime": {
     "end_time": "2024-02-16T15:08:04.004048900Z",
     "start_time": "2024-02-16T15:08:00.673198400Z"
    }
   },
   "outputs": [
    {
     "name": "stdout",
     "output_type": "stream",
     "text": [
      "Requirement already satisfied: llama-index in d:\\apibest-practice\\venv\\lib\\site-packages (0.10.5)\n",
      "Requirement already satisfied: pypdf in d:\\apibest-practice\\venv\\lib\\site-packages (4.0.1)\n",
      "Requirement already satisfied: llama-index-agent-openai<0.2.0,>=0.1.0 in d:\\apibest-practice\\venv\\lib\\site-packages (from llama-index) (0.1.1)\n",
      "Requirement already satisfied: llama-index-core<0.11.0,>=0.10.0 in d:\\apibest-practice\\venv\\lib\\site-packages (from llama-index) (0.10.5)\n",
      "Requirement already satisfied: llama-index-embeddings-openai<0.2.0,>=0.1.0 in d:\\apibest-practice\\venv\\lib\\site-packages (from llama-index) (0.1.1)\n",
      "Requirement already satisfied: llama-index-legacy<0.10.0,>=0.9.48 in d:\\apibest-practice\\venv\\lib\\site-packages (from llama-index) (0.9.48)\n",
      "Requirement already satisfied: llama-index-llms-openai<0.2.0,>=0.1.0 in d:\\apibest-practice\\venv\\lib\\site-packages (from llama-index) (0.1.1)\n",
      "Requirement already satisfied: llama-index-multi-modal-llms-openai<0.2.0,>=0.1.0 in d:\\apibest-practice\\venv\\lib\\site-packages (from llama-index) (0.1.1)\n",
      "Requirement already satisfied: llama-index-program-openai<0.2.0,>=0.1.0 in d:\\apibest-practice\\venv\\lib\\site-packages (from llama-index) (0.1.1)\n",
      "Requirement already satisfied: llama-index-question-gen-openai<0.2.0,>=0.1.0 in d:\\apibest-practice\\venv\\lib\\site-packages (from llama-index) (0.1.1)\n",
      "Requirement already satisfied: llama-index-readers-file<0.2.0,>=0.1.0 in d:\\apibest-practice\\venv\\lib\\site-packages (from llama-index) (0.1.3)\n",
      "Requirement already satisfied: PyYAML>=6.0.1 in d:\\apibest-practice\\venv\\lib\\site-packages (from llama-index-core<0.11.0,>=0.10.0->llama-index) (6.0.1)\n",
      "Requirement already satisfied: SQLAlchemy[asyncio]>=1.4.49 in d:\\apibest-practice\\venv\\lib\\site-packages (from llama-index-core<0.11.0,>=0.10.0->llama-index) (2.0.27)\n",
      "Requirement already satisfied: aiohttp<4.0.0,>=3.8.6 in d:\\apibest-practice\\venv\\lib\\site-packages (from llama-index-core<0.11.0,>=0.10.0->llama-index) (3.9.3)\n",
      "Requirement already satisfied: dataclasses-json in d:\\apibest-practice\\venv\\lib\\site-packages (from llama-index-core<0.11.0,>=0.10.0->llama-index) (0.6.4)\n",
      "Requirement already satisfied: deprecated>=1.2.9.3 in d:\\apibest-practice\\venv\\lib\\site-packages (from llama-index-core<0.11.0,>=0.10.0->llama-index) (1.2.14)\n",
      "Requirement already satisfied: dirtyjson<2.0.0,>=1.0.8 in d:\\apibest-practice\\venv\\lib\\site-packages (from llama-index-core<0.11.0,>=0.10.0->llama-index) (1.0.8)\n",
      "Requirement already satisfied: fsspec>=2023.5.0 in d:\\apibest-practice\\venv\\lib\\site-packages (from llama-index-core<0.11.0,>=0.10.0->llama-index) (2024.2.0)\n",
      "Requirement already satisfied: httpx in d:\\apibest-practice\\venv\\lib\\site-packages (from llama-index-core<0.11.0,>=0.10.0->llama-index) (0.26.0)\n",
      "Requirement already satisfied: nest-asyncio<2.0.0,>=1.5.8 in d:\\apibest-practice\\venv\\lib\\site-packages (from llama-index-core<0.11.0,>=0.10.0->llama-index) (1.6.0)\n",
      "Requirement already satisfied: networkx>=3.0 in d:\\apibest-practice\\venv\\lib\\site-packages (from llama-index-core<0.11.0,>=0.10.0->llama-index) (3.2.1)\n",
      "Requirement already satisfied: nltk<4.0.0,>=3.8.1 in d:\\apibest-practice\\venv\\lib\\site-packages (from llama-index-core<0.11.0,>=0.10.0->llama-index) (3.8.1)\n",
      "Requirement already satisfied: numpy in d:\\apibest-practice\\venv\\lib\\site-packages (from llama-index-core<0.11.0,>=0.10.0->llama-index) (1.26.4)\n",
      "Requirement already satisfied: openai>=1.1.0 in d:\\apibest-practice\\venv\\lib\\site-packages (from llama-index-core<0.11.0,>=0.10.0->llama-index) (1.12.0)\n",
      "Requirement already satisfied: pandas in d:\\apibest-practice\\venv\\lib\\site-packages (from llama-index-core<0.11.0,>=0.10.0->llama-index) (2.2.0)\n",
      "Requirement already satisfied: pillow>=9.0.0 in d:\\apibest-practice\\venv\\lib\\site-packages (from llama-index-core<0.11.0,>=0.10.0->llama-index) (10.2.0)\n",
      "Requirement already satisfied: requests>=2.31.0 in d:\\apibest-practice\\venv\\lib\\site-packages (from llama-index-core<0.11.0,>=0.10.0->llama-index) (2.31.0)\n",
      "Requirement already satisfied: tenacity<9.0.0,>=8.2.0 in d:\\apibest-practice\\venv\\lib\\site-packages (from llama-index-core<0.11.0,>=0.10.0->llama-index) (8.2.3)\n",
      "Requirement already satisfied: tiktoken>=0.3.3 in d:\\apibest-practice\\venv\\lib\\site-packages (from llama-index-core<0.11.0,>=0.10.0->llama-index) (0.6.0)\n",
      "Requirement already satisfied: tqdm<5.0.0,>=4.66.1 in d:\\apibest-practice\\venv\\lib\\site-packages (from llama-index-core<0.11.0,>=0.10.0->llama-index) (4.66.2)\n",
      "Requirement already satisfied: typing-extensions>=4.5.0 in d:\\apibest-practice\\venv\\lib\\site-packages (from llama-index-core<0.11.0,>=0.10.0->llama-index) (4.9.0)\n",
      "Requirement already satisfied: typing-inspect>=0.8.0 in d:\\apibest-practice\\venv\\lib\\site-packages (from llama-index-core<0.11.0,>=0.10.0->llama-index) (0.9.0)\n",
      "Requirement already satisfied: beautifulsoup4<5.0.0,>=4.12.3 in d:\\apibest-practice\\venv\\lib\\site-packages (from llama-index-readers-file<0.2.0,>=0.1.0->llama-index) (4.12.3)\n",
      "Requirement already satisfied: bs4<0.0.3,>=0.0.2 in d:\\apibest-practice\\venv\\lib\\site-packages (from llama-index-readers-file<0.2.0,>=0.1.0->llama-index) (0.0.2)\n",
      "Requirement already satisfied: pymupdf<2.0.0,>=1.23.21 in d:\\apibest-practice\\venv\\lib\\site-packages (from llama-index-readers-file<0.2.0,>=0.1.0->llama-index) (1.23.22)\n",
      "Requirement already satisfied: aiosignal>=1.1.2 in d:\\apibest-practice\\venv\\lib\\site-packages (from aiohttp<4.0.0,>=3.8.6->llama-index-core<0.11.0,>=0.10.0->llama-index) (1.3.1)\n",
      "Requirement already satisfied: attrs>=17.3.0 in d:\\apibest-practice\\venv\\lib\\site-packages (from aiohttp<4.0.0,>=3.8.6->llama-index-core<0.11.0,>=0.10.0->llama-index) (23.2.0)\n",
      "Requirement already satisfied: frozenlist>=1.1.1 in d:\\apibest-practice\\venv\\lib\\site-packages (from aiohttp<4.0.0,>=3.8.6->llama-index-core<0.11.0,>=0.10.0->llama-index) (1.4.1)\n",
      "Requirement already satisfied: multidict<7.0,>=4.5 in d:\\apibest-practice\\venv\\lib\\site-packages (from aiohttp<4.0.0,>=3.8.6->llama-index-core<0.11.0,>=0.10.0->llama-index) (6.0.5)\n",
      "Requirement already satisfied: yarl<2.0,>=1.0 in d:\\apibest-practice\\venv\\lib\\site-packages (from aiohttp<4.0.0,>=3.8.6->llama-index-core<0.11.0,>=0.10.0->llama-index) (1.9.4)\n",
      "Requirement already satisfied: soupsieve>1.2 in d:\\apibest-practice\\venv\\lib\\site-packages (from beautifulsoup4<5.0.0,>=4.12.3->llama-index-readers-file<0.2.0,>=0.1.0->llama-index) (2.5)\n",
      "Requirement already satisfied: wrapt<2,>=1.10 in d:\\apibest-practice\\venv\\lib\\site-packages (from deprecated>=1.2.9.3->llama-index-core<0.11.0,>=0.10.0->llama-index) (1.16.0)\n",
      "Requirement already satisfied: click in d:\\apibest-practice\\venv\\lib\\site-packages (from nltk<4.0.0,>=3.8.1->llama-index-core<0.11.0,>=0.10.0->llama-index) (8.1.7)\n",
      "Requirement already satisfied: joblib in d:\\apibest-practice\\venv\\lib\\site-packages (from nltk<4.0.0,>=3.8.1->llama-index-core<0.11.0,>=0.10.0->llama-index) (1.3.2)\n",
      "Requirement already satisfied: regex>=2021.8.3 in d:\\apibest-practice\\venv\\lib\\site-packages (from nltk<4.0.0,>=3.8.1->llama-index-core<0.11.0,>=0.10.0->llama-index) (2023.12.25)\n",
      "Requirement already satisfied: anyio<5,>=3.5.0 in d:\\apibest-practice\\venv\\lib\\site-packages (from openai>=1.1.0->llama-index-core<0.11.0,>=0.10.0->llama-index) (4.2.0)\n",
      "Requirement already satisfied: distro<2,>=1.7.0 in d:\\apibest-practice\\venv\\lib\\site-packages (from openai>=1.1.0->llama-index-core<0.11.0,>=0.10.0->llama-index) (1.9.0)\n",
      "Requirement already satisfied: pydantic<3,>=1.9.0 in d:\\apibest-practice\\venv\\lib\\site-packages (from openai>=1.1.0->llama-index-core<0.11.0,>=0.10.0->llama-index) (2.6.1)\n",
      "Requirement already satisfied: sniffio in d:\\apibest-practice\\venv\\lib\\site-packages (from openai>=1.1.0->llama-index-core<0.11.0,>=0.10.0->llama-index) (1.3.0)\n",
      "Requirement already satisfied: certifi in d:\\apibest-practice\\venv\\lib\\site-packages (from httpx->llama-index-core<0.11.0,>=0.10.0->llama-index) (2024.2.2)\n",
      "Requirement already satisfied: httpcore==1.* in d:\\apibest-practice\\venv\\lib\\site-packages (from httpx->llama-index-core<0.11.0,>=0.10.0->llama-index) (1.0.3)\n",
      "Requirement already satisfied: idna in d:\\apibest-practice\\venv\\lib\\site-packages (from httpx->llama-index-core<0.11.0,>=0.10.0->llama-index) (3.6)\n",
      "Requirement already satisfied: h11<0.15,>=0.13 in d:\\apibest-practice\\venv\\lib\\site-packages (from httpcore==1.*->httpx->llama-index-core<0.11.0,>=0.10.0->llama-index) (0.14.0)\n",
      "Requirement already satisfied: PyMuPDFb==1.23.22 in d:\\apibest-practice\\venv\\lib\\site-packages (from pymupdf<2.0.0,>=1.23.21->llama-index-readers-file<0.2.0,>=0.1.0->llama-index) (1.23.22)\n",
      "Requirement already satisfied: charset-normalizer<4,>=2 in d:\\apibest-practice\\venv\\lib\\site-packages (from requests>=2.31.0->llama-index-core<0.11.0,>=0.10.0->llama-index) (3.3.2)\n",
      "Requirement already satisfied: urllib3<3,>=1.21.1 in d:\\apibest-practice\\venv\\lib\\site-packages (from requests>=2.31.0->llama-index-core<0.11.0,>=0.10.0->llama-index) (2.2.0)\n",
      "Requirement already satisfied: greenlet!=0.4.17 in d:\\apibest-practice\\venv\\lib\\site-packages (from SQLAlchemy[asyncio]>=1.4.49->llama-index-core<0.11.0,>=0.10.0->llama-index) (3.0.3)\n",
      "Requirement already satisfied: colorama in d:\\apibest-practice\\venv\\lib\\site-packages (from tqdm<5.0.0,>=4.66.1->llama-index-core<0.11.0,>=0.10.0->llama-index) (0.4.6)\n",
      "Requirement already satisfied: mypy-extensions>=0.3.0 in d:\\apibest-practice\\venv\\lib\\site-packages (from typing-inspect>=0.8.0->llama-index-core<0.11.0,>=0.10.0->llama-index) (1.0.0)\n",
      "Requirement already satisfied: marshmallow<4.0.0,>=3.18.0 in d:\\apibest-practice\\venv\\lib\\site-packages (from dataclasses-json->llama-index-core<0.11.0,>=0.10.0->llama-index) (3.20.2)\n",
      "Requirement already satisfied: python-dateutil>=2.8.2 in d:\\apibest-practice\\venv\\lib\\site-packages (from pandas->llama-index-core<0.11.0,>=0.10.0->llama-index) (2.8.2)\n",
      "Requirement already satisfied: pytz>=2020.1 in d:\\apibest-practice\\venv\\lib\\site-packages (from pandas->llama-index-core<0.11.0,>=0.10.0->llama-index) (2024.1)\n",
      "Requirement already satisfied: tzdata>=2022.7 in d:\\apibest-practice\\venv\\lib\\site-packages (from pandas->llama-index-core<0.11.0,>=0.10.0->llama-index) (2024.1)\n",
      "Requirement already satisfied: packaging>=17.0 in d:\\apibest-practice\\venv\\lib\\site-packages (from marshmallow<4.0.0,>=3.18.0->dataclasses-json->llama-index-core<0.11.0,>=0.10.0->llama-index) (23.2)\n",
      "Requirement already satisfied: annotated-types>=0.4.0 in d:\\apibest-practice\\venv\\lib\\site-packages (from pydantic<3,>=1.9.0->openai>=1.1.0->llama-index-core<0.11.0,>=0.10.0->llama-index) (0.6.0)\n",
      "Requirement already satisfied: pydantic-core==2.16.2 in d:\\apibest-practice\\venv\\lib\\site-packages (from pydantic<3,>=1.9.0->openai>=1.1.0->llama-index-core<0.11.0,>=0.10.0->llama-index) (2.16.2)\n",
      "Requirement already satisfied: six>=1.5 in d:\\apibest-practice\\venv\\lib\\site-packages (from python-dateutil>=2.8.2->pandas->llama-index-core<0.11.0,>=0.10.0->llama-index) (1.16.0)\n"
     ]
    },
    {
     "name": "stderr",
     "output_type": "stream",
     "text": [
      "WARNING: There was an error checking the latest version of pip.\n"
     ]
    }
   ],
   "source": [
    "!pip install llama-index pypdf"
   ]
  },
  {
   "cell_type": "code",
   "execution_count": 17,
   "id": "ba153b38ce09f38e",
   "metadata": {
    "collapsed": false,
    "ExecuteTime": {
     "end_time": "2024-02-16T15:08:04.005295600Z",
     "start_time": "2024-02-16T15:08:03.998508500Z"
    }
   },
   "outputs": [],
   "source": [
    "from llama_index.llms.ollama import Ollama\n",
    "llm = Ollama(model=\"llama2:7b\", request_timeout=3000)"
   ]
  },
  {
   "cell_type": "code",
   "execution_count": 18,
   "id": "f29ac16c53eb3b5a",
   "metadata": {
    "collapsed": false,
    "ExecuteTime": {
     "end_time": "2024-02-16T15:08:08.466379600Z",
     "start_time": "2024-02-16T15:08:04.003049700Z"
    }
   },
   "outputs": [
    {
     "name": "stdout",
     "output_type": "stream",
     "text": [
      "INFO:httpx:HTTP Request: POST http://localhost:11434/api/generate \"HTTP/1.1 200 OK\"\n",
      "HTTP Request: POST http://localhost:11434/api/generate \"HTTP/1.1 200 OK\"\n",
      "HTTP Request: POST http://localhost:11434/api/generate \"HTTP/1.1 200 OK\"\n"
     ]
    },
    {
     "data": {
      "text/plain": "CompletionResponse(text='Hi there! How are you today?', additional_kwargs={'model': 'llama2:7b', 'created_at': '2024-02-16T15:08:08.4482002Z', 'done': True, 'context': [518, 25580, 29962, 3532, 14816, 29903, 29958, 5299, 829, 14816, 29903, 6778, 13, 13, 10994, 518, 29914, 25580, 29962, 13, 18567, 727, 29991, 1128, 526, 366, 9826, 29973], 'total_duration': 2098611300, 'load_duration': 5682600, 'prompt_eval_count': 14, 'prompt_eval_duration': 1206253000, 'eval_count': 9, 'eval_duration': 885361000}, raw={'model': 'llama2:7b', 'created_at': '2024-02-16T15:08:08.4482002Z', 'response': 'Hi there! How are you today?', 'done': True, 'context': [518, 25580, 29962, 3532, 14816, 29903, 29958, 5299, 829, 14816, 29903, 6778, 13, 13, 10994, 518, 29914, 25580, 29962, 13, 18567, 727, 29991, 1128, 526, 366, 9826, 29973], 'total_duration': 2098611300, 'load_duration': 5682600, 'prompt_eval_count': 14, 'prompt_eval_duration': 1206253000, 'eval_count': 9, 'eval_duration': 885361000}, delta=None)"
     },
     "execution_count": 18,
     "metadata": {},
     "output_type": "execute_result"
    }
   ],
   "source": [
    "llm.complete(\"Hello\")"
   ]
  },
  {
   "cell_type": "markdown",
   "id": "cec5aa438f53c33b",
   "metadata": {
    "collapsed": false
   },
   "source": [
    "# Create service context"
   ]
  },
  {
   "cell_type": "markdown",
   "id": "370182ba84943023",
   "metadata": {
    "collapsed": false
   },
   "source": [
    "# Indexing"
   ]
  },
  {
   "cell_type": "code",
   "execution_count": 19,
   "outputs": [
    {
     "name": "stdout",
     "output_type": "stream",
     "text": [
      "Requirement already satisfied: llama-index-embeddings-huggingface in d:\\apibest-practice\\venv\\lib\\site-packages (0.1.1)\n",
      "Requirement already satisfied: huggingface-hub[inference]>=0.19.0 in d:\\apibest-practice\\venv\\lib\\site-packages (from llama-index-embeddings-huggingface) (0.20.3)\n",
      "Requirement already satisfied: llama-index-core<0.11.0,>=0.10.1 in d:\\apibest-practice\\venv\\lib\\site-packages (from llama-index-embeddings-huggingface) (0.10.5)\n",
      "Requirement already satisfied: torch<3.0.0,>=2.1.2 in d:\\apibest-practice\\venv\\lib\\site-packages (from llama-index-embeddings-huggingface) (2.2.0)\n",
      "Requirement already satisfied: transformers<5.0.0,>=4.37.0 in d:\\apibest-practice\\venv\\lib\\site-packages (from llama-index-embeddings-huggingface) (4.37.2)\n",
      "Requirement already satisfied: filelock in d:\\apibest-practice\\venv\\lib\\site-packages (from huggingface-hub[inference]>=0.19.0->llama-index-embeddings-huggingface) (3.13.1)\n",
      "Requirement already satisfied: fsspec>=2023.5.0 in d:\\apibest-practice\\venv\\lib\\site-packages (from huggingface-hub[inference]>=0.19.0->llama-index-embeddings-huggingface) (2024.2.0)\n",
      "Requirement already satisfied: requests in d:\\apibest-practice\\venv\\lib\\site-packages (from huggingface-hub[inference]>=0.19.0->llama-index-embeddings-huggingface) (2.31.0)\n",
      "Requirement already satisfied: tqdm>=4.42.1 in d:\\apibest-practice\\venv\\lib\\site-packages (from huggingface-hub[inference]>=0.19.0->llama-index-embeddings-huggingface) (4.66.2)\n",
      "Requirement already satisfied: pyyaml>=5.1 in d:\\apibest-practice\\venv\\lib\\site-packages (from huggingface-hub[inference]>=0.19.0->llama-index-embeddings-huggingface) (6.0.1)\n",
      "Requirement already satisfied: typing-extensions>=3.7.4.3 in d:\\apibest-practice\\venv\\lib\\site-packages (from huggingface-hub[inference]>=0.19.0->llama-index-embeddings-huggingface) (4.9.0)\n",
      "Requirement already satisfied: packaging>=20.9 in d:\\apibest-practice\\venv\\lib\\site-packages (from huggingface-hub[inference]>=0.19.0->llama-index-embeddings-huggingface) (23.2)\n",
      "Requirement already satisfied: aiohttp in d:\\apibest-practice\\venv\\lib\\site-packages (from huggingface-hub[inference]>=0.19.0->llama-index-embeddings-huggingface) (3.9.3)\n",
      "Requirement already satisfied: pydantic<3.0,>1.1 in d:\\apibest-practice\\venv\\lib\\site-packages (from huggingface-hub[inference]>=0.19.0->llama-index-embeddings-huggingface) (2.6.1)\n",
      "Requirement already satisfied: SQLAlchemy[asyncio]>=1.4.49 in d:\\apibest-practice\\venv\\lib\\site-packages (from llama-index-core<0.11.0,>=0.10.1->llama-index-embeddings-huggingface) (2.0.27)\n",
      "Requirement already satisfied: dataclasses-json in d:\\apibest-practice\\venv\\lib\\site-packages (from llama-index-core<0.11.0,>=0.10.1->llama-index-embeddings-huggingface) (0.6.4)\n",
      "Requirement already satisfied: deprecated>=1.2.9.3 in d:\\apibest-practice\\venv\\lib\\site-packages (from llama-index-core<0.11.0,>=0.10.1->llama-index-embeddings-huggingface) (1.2.14)\n",
      "Requirement already satisfied: dirtyjson<2.0.0,>=1.0.8 in d:\\apibest-practice\\venv\\lib\\site-packages (from llama-index-core<0.11.0,>=0.10.1->llama-index-embeddings-huggingface) (1.0.8)\n",
      "Requirement already satisfied: httpx in d:\\apibest-practice\\venv\\lib\\site-packages (from llama-index-core<0.11.0,>=0.10.1->llama-index-embeddings-huggingface) (0.26.0)\n",
      "Requirement already satisfied: nest-asyncio<2.0.0,>=1.5.8 in d:\\apibest-practice\\venv\\lib\\site-packages (from llama-index-core<0.11.0,>=0.10.1->llama-index-embeddings-huggingface) (1.6.0)\n",
      "Requirement already satisfied: networkx>=3.0 in d:\\apibest-practice\\venv\\lib\\site-packages (from llama-index-core<0.11.0,>=0.10.1->llama-index-embeddings-huggingface) (3.2.1)\n",
      "Requirement already satisfied: nltk<4.0.0,>=3.8.1 in d:\\apibest-practice\\venv\\lib\\site-packages (from llama-index-core<0.11.0,>=0.10.1->llama-index-embeddings-huggingface) (3.8.1)\n",
      "Requirement already satisfied: numpy in d:\\apibest-practice\\venv\\lib\\site-packages (from llama-index-core<0.11.0,>=0.10.1->llama-index-embeddings-huggingface) (1.26.4)\n",
      "Requirement already satisfied: openai>=1.1.0 in d:\\apibest-practice\\venv\\lib\\site-packages (from llama-index-core<0.11.0,>=0.10.1->llama-index-embeddings-huggingface) (1.12.0)\n",
      "Requirement already satisfied: pandas in d:\\apibest-practice\\venv\\lib\\site-packages (from llama-index-core<0.11.0,>=0.10.1->llama-index-embeddings-huggingface) (2.2.0)\n",
      "Requirement already satisfied: pillow>=9.0.0 in d:\\apibest-practice\\venv\\lib\\site-packages (from llama-index-core<0.11.0,>=0.10.1->llama-index-embeddings-huggingface) (10.2.0)\n",
      "Requirement already satisfied: tenacity<9.0.0,>=8.2.0 in d:\\apibest-practice\\venv\\lib\\site-packages (from llama-index-core<0.11.0,>=0.10.1->llama-index-embeddings-huggingface) (8.2.3)\n",
      "Requirement already satisfied: tiktoken>=0.3.3 in d:\\apibest-practice\\venv\\lib\\site-packages (from llama-index-core<0.11.0,>=0.10.1->llama-index-embeddings-huggingface) (0.6.0)\n",
      "Requirement already satisfied: typing-inspect>=0.8.0 in d:\\apibest-practice\\venv\\lib\\site-packages (from llama-index-core<0.11.0,>=0.10.1->llama-index-embeddings-huggingface) (0.9.0)\n",
      "Requirement already satisfied: sympy in d:\\apibest-practice\\venv\\lib\\site-packages (from torch<3.0.0,>=2.1.2->llama-index-embeddings-huggingface) (1.12)\n",
      "Requirement already satisfied: jinja2 in d:\\apibest-practice\\venv\\lib\\site-packages (from torch<3.0.0,>=2.1.2->llama-index-embeddings-huggingface) (3.1.3)\n",
      "Requirement already satisfied: regex!=2019.12.17 in d:\\apibest-practice\\venv\\lib\\site-packages (from transformers<5.0.0,>=4.37.0->llama-index-embeddings-huggingface) (2023.12.25)\n",
      "Requirement already satisfied: tokenizers<0.19,>=0.14 in d:\\apibest-practice\\venv\\lib\\site-packages (from transformers<5.0.0,>=4.37.0->llama-index-embeddings-huggingface) (0.15.2)\n",
      "Requirement already satisfied: safetensors>=0.4.1 in d:\\apibest-practice\\venv\\lib\\site-packages (from transformers<5.0.0,>=4.37.0->llama-index-embeddings-huggingface) (0.4.2)\n",
      "Requirement already satisfied: aiosignal>=1.1.2 in d:\\apibest-practice\\venv\\lib\\site-packages (from aiohttp->huggingface-hub[inference]>=0.19.0->llama-index-embeddings-huggingface) (1.3.1)\n",
      "Requirement already satisfied: attrs>=17.3.0 in d:\\apibest-practice\\venv\\lib\\site-packages (from aiohttp->huggingface-hub[inference]>=0.19.0->llama-index-embeddings-huggingface) (23.2.0)\n",
      "Requirement already satisfied: frozenlist>=1.1.1 in d:\\apibest-practice\\venv\\lib\\site-packages (from aiohttp->huggingface-hub[inference]>=0.19.0->llama-index-embeddings-huggingface) (1.4.1)\n",
      "Requirement already satisfied: multidict<7.0,>=4.5 in d:\\apibest-practice\\venv\\lib\\site-packages (from aiohttp->huggingface-hub[inference]>=0.19.0->llama-index-embeddings-huggingface) (6.0.5)\n",
      "Requirement already satisfied: yarl<2.0,>=1.0 in d:\\apibest-practice\\venv\\lib\\site-packages (from aiohttp->huggingface-hub[inference]>=0.19.0->llama-index-embeddings-huggingface) (1.9.4)\n",
      "Requirement already satisfied: wrapt<2,>=1.10 in d:\\apibest-practice\\venv\\lib\\site-packages (from deprecated>=1.2.9.3->llama-index-core<0.11.0,>=0.10.1->llama-index-embeddings-huggingface) (1.16.0)\n",
      "Requirement already satisfied: click in d:\\apibest-practice\\venv\\lib\\site-packages (from nltk<4.0.0,>=3.8.1->llama-index-core<0.11.0,>=0.10.1->llama-index-embeddings-huggingface) (8.1.7)\n",
      "Requirement already satisfied: joblib in d:\\apibest-practice\\venv\\lib\\site-packages (from nltk<4.0.0,>=3.8.1->llama-index-core<0.11.0,>=0.10.1->llama-index-embeddings-huggingface) (1.3.2)\n",
      "Requirement already satisfied: anyio<5,>=3.5.0 in d:\\apibest-practice\\venv\\lib\\site-packages (from openai>=1.1.0->llama-index-core<0.11.0,>=0.10.1->llama-index-embeddings-huggingface) (4.2.0)\n",
      "Requirement already satisfied: distro<2,>=1.7.0 in d:\\apibest-practice\\venv\\lib\\site-packages (from openai>=1.1.0->llama-index-core<0.11.0,>=0.10.1->llama-index-embeddings-huggingface) (1.9.0)\n",
      "Requirement already satisfied: sniffio in d:\\apibest-practice\\venv\\lib\\site-packages (from openai>=1.1.0->llama-index-core<0.11.0,>=0.10.1->llama-index-embeddings-huggingface) (1.3.0)\n",
      "Requirement already satisfied: certifi in d:\\apibest-practice\\venv\\lib\\site-packages (from httpx->llama-index-core<0.11.0,>=0.10.1->llama-index-embeddings-huggingface) (2024.2.2)\n",
      "Requirement already satisfied: httpcore==1.* in d:\\apibest-practice\\venv\\lib\\site-packages (from httpx->llama-index-core<0.11.0,>=0.10.1->llama-index-embeddings-huggingface) (1.0.3)\n",
      "Requirement already satisfied: idna in d:\\apibest-practice\\venv\\lib\\site-packages (from httpx->llama-index-core<0.11.0,>=0.10.1->llama-index-embeddings-huggingface) (3.6)\n",
      "Requirement already satisfied: h11<0.15,>=0.13 in d:\\apibest-practice\\venv\\lib\\site-packages (from httpcore==1.*->httpx->llama-index-core<0.11.0,>=0.10.1->llama-index-embeddings-huggingface) (0.14.0)\n",
      "Requirement already satisfied: annotated-types>=0.4.0 in d:\\apibest-practice\\venv\\lib\\site-packages (from pydantic<3.0,>1.1->huggingface-hub[inference]>=0.19.0->llama-index-embeddings-huggingface) (0.6.0)\n",
      "Requirement already satisfied: pydantic-core==2.16.2 in d:\\apibest-practice\\venv\\lib\\site-packages (from pydantic<3.0,>1.1->huggingface-hub[inference]>=0.19.0->llama-index-embeddings-huggingface) (2.16.2)\n",
      "Requirement already satisfied: charset-normalizer<4,>=2 in d:\\apibest-practice\\venv\\lib\\site-packages (from requests->huggingface-hub[inference]>=0.19.0->llama-index-embeddings-huggingface) (3.3.2)\n",
      "Requirement already satisfied: urllib3<3,>=1.21.1 in d:\\apibest-practice\\venv\\lib\\site-packages (from requests->huggingface-hub[inference]>=0.19.0->llama-index-embeddings-huggingface) (2.2.0)\n",
      "Requirement already satisfied: greenlet!=0.4.17 in d:\\apibest-practice\\venv\\lib\\site-packages (from SQLAlchemy[asyncio]>=1.4.49->llama-index-core<0.11.0,>=0.10.1->llama-index-embeddings-huggingface) (3.0.3)\n",
      "Requirement already satisfied: colorama in d:\\apibest-practice\\venv\\lib\\site-packages (from tqdm>=4.42.1->huggingface-hub[inference]>=0.19.0->llama-index-embeddings-huggingface) (0.4.6)\n",
      "Requirement already satisfied: mypy-extensions>=0.3.0 in d:\\apibest-practice\\venv\\lib\\site-packages (from typing-inspect>=0.8.0->llama-index-core<0.11.0,>=0.10.1->llama-index-embeddings-huggingface) (1.0.0)\n",
      "Requirement already satisfied: marshmallow<4.0.0,>=3.18.0 in d:\\apibest-practice\\venv\\lib\\site-packages (from dataclasses-json->llama-index-core<0.11.0,>=0.10.1->llama-index-embeddings-huggingface) (3.20.2)\n",
      "Requirement already satisfied: MarkupSafe>=2.0 in d:\\apibest-practice\\venv\\lib\\site-packages (from jinja2->torch<3.0.0,>=2.1.2->llama-index-embeddings-huggingface) (2.1.5)\n",
      "Requirement already satisfied: python-dateutil>=2.8.2 in d:\\apibest-practice\\venv\\lib\\site-packages (from pandas->llama-index-core<0.11.0,>=0.10.1->llama-index-embeddings-huggingface) (2.8.2)\n",
      "Requirement already satisfied: pytz>=2020.1 in d:\\apibest-practice\\venv\\lib\\site-packages (from pandas->llama-index-core<0.11.0,>=0.10.1->llama-index-embeddings-huggingface) (2024.1)\n",
      "Requirement already satisfied: tzdata>=2022.7 in d:\\apibest-practice\\venv\\lib\\site-packages (from pandas->llama-index-core<0.11.0,>=0.10.1->llama-index-embeddings-huggingface) (2024.1)\n",
      "Requirement already satisfied: mpmath>=0.19 in d:\\apibest-practice\\venv\\lib\\site-packages (from sympy->torch<3.0.0,>=2.1.2->llama-index-embeddings-huggingface) (1.3.0)\n",
      "Requirement already satisfied: six>=1.5 in d:\\apibest-practice\\venv\\lib\\site-packages (from python-dateutil>=2.8.2->pandas->llama-index-core<0.11.0,>=0.10.1->llama-index-embeddings-huggingface) (1.16.0)\n"
     ]
    },
    {
     "name": "stderr",
     "output_type": "stream",
     "text": [
      "WARNING: There was an error checking the latest version of pip.\n"
     ]
    }
   ],
   "source": [
    "!pip install llama-index-embeddings-huggingface"
   ],
   "metadata": {
    "collapsed": false,
    "ExecuteTime": {
     "end_time": "2024-02-16T15:08:12.009194800Z",
     "start_time": "2024-02-16T15:08:08.465360Z"
    }
   },
   "id": "56219545ad4d9da"
  },
  {
   "cell_type": "code",
   "execution_count": 20,
   "outputs": [
    {
     "name": "stdout",
     "output_type": "stream",
     "text": [
      "ERROR:pypdf._cmap:Advanced encoding /SymbolSetEncoding not implemented yet\n",
      "Advanced encoding /SymbolSetEncoding not implemented yet\n",
      "Advanced encoding /SymbolSetEncoding not implemented yet\n",
      "ERROR:pypdf._cmap:Advanced encoding /SymbolSetEncoding not implemented yet\n",
      "Advanced encoding /SymbolSetEncoding not implemented yet\n",
      "Advanced encoding /SymbolSetEncoding not implemented yet\n",
      "ERROR:pypdf._cmap:Advanced encoding /SymbolSetEncoding not implemented yet\n",
      "Advanced encoding /SymbolSetEncoding not implemented yet\n",
      "Advanced encoding /SymbolSetEncoding not implemented yet\n",
      "ERROR:pypdf._cmap:Advanced encoding /SymbolSetEncoding not implemented yet\n",
      "Advanced encoding /SymbolSetEncoding not implemented yet\n",
      "Advanced encoding /SymbolSetEncoding not implemented yet\n",
      "ERROR:pypdf._cmap:Advanced encoding /SymbolSetEncoding not implemented yet\n",
      "Advanced encoding /SymbolSetEncoding not implemented yet\n",
      "Advanced encoding /SymbolSetEncoding not implemented yet\n",
      "ERROR:pypdf._cmap:Advanced encoding /SymbolSetEncoding not implemented yet\n",
      "Advanced encoding /SymbolSetEncoding not implemented yet\n",
      "Advanced encoding /SymbolSetEncoding not implemented yet\n"
     ]
    },
    {
     "name": "stderr",
     "output_type": "stream",
     "text": [
      "C:\\Users\\LENOVO\\AppData\\Local\\Temp\\ipykernel_1604\\4238855961.py:18: DeprecationWarning: Call to deprecated class method from_defaults. (ServiceContext is deprecated, please use `llama_index.settings.Settings` instead.) -- Deprecated since version 0.10.0.\n",
      "  .from_defaults(\n"
     ]
    },
    {
     "name": "stdout",
     "output_type": "stream",
     "text": [
      "**********\n",
      "Trace: index_construction\n",
      "    |_CBEventType.EMBEDDING ->  2.357857 seconds\n",
      "    |_CBEventType.EMBEDDING ->  1.832631 seconds\n",
      "    |_CBEventType.EMBEDDING ->  1.802971 seconds\n",
      "    |_CBEventType.EMBEDDING ->  2.095322 seconds\n",
      "    |_CBEventType.EMBEDDING ->  1.699826 seconds\n",
      "    |_CBEventType.EMBEDDING ->  1.901398 seconds\n",
      "    |_CBEventType.EMBEDDING ->  1.635072 seconds\n",
      "    |_CBEventType.EMBEDDING ->  1.72603 seconds\n",
      "    |_CBEventType.EMBEDDING ->  1.615471 seconds\n",
      "    |_CBEventType.EMBEDDING ->  1.882479 seconds\n",
      "    |_CBEventType.EMBEDDING ->  1.717634 seconds\n",
      "    |_CBEventType.EMBEDDING ->  1.852808 seconds\n",
      "    |_CBEventType.EMBEDDING ->  1.78836 seconds\n",
      "    |_CBEventType.EMBEDDING ->  2.785124 seconds\n",
      "    |_CBEventType.EMBEDDING ->  2.245576 seconds\n",
      "    |_CBEventType.EMBEDDING ->  1.916762 seconds\n",
      "    |_CBEventType.EMBEDDING ->  1.714477 seconds\n",
      "    |_CBEventType.EMBEDDING ->  1.691546 seconds\n",
      "    |_CBEventType.EMBEDDING ->  1.671815 seconds\n",
      "    |_CBEventType.EMBEDDING ->  1.66327 seconds\n",
      "    |_CBEventType.EMBEDDING ->  1.683649 seconds\n",
      "    |_CBEventType.EMBEDDING ->  1.855506 seconds\n",
      "    |_CBEventType.EMBEDDING ->  1.85897 seconds\n",
      "    |_CBEventType.EMBEDDING ->  1.93195 seconds\n",
      "    |_CBEventType.EMBEDDING ->  1.785628 seconds\n",
      "    |_CBEventType.EMBEDDING ->  1.936733 seconds\n",
      "    |_CBEventType.EMBEDDING ->  2.114127 seconds\n",
      "    |_CBEventType.EMBEDDING ->  1.780791 seconds\n",
      "    |_CBEventType.EMBEDDING ->  1.704592 seconds\n",
      "    |_CBEventType.EMBEDDING ->  1.685277 seconds\n",
      "    |_CBEventType.EMBEDDING ->  1.967835 seconds\n",
      "    |_CBEventType.EMBEDDING ->  1.88222 seconds\n",
      "    |_CBEventType.EMBEDDING ->  1.743139 seconds\n",
      "    |_CBEventType.EMBEDDING ->  2.083754 seconds\n",
      "    |_CBEventType.EMBEDDING ->  1.740488 seconds\n",
      "    |_CBEventType.EMBEDDING ->  1.670149 seconds\n",
      "    |_CBEventType.EMBEDDING ->  1.855155 seconds\n",
      "    |_CBEventType.EMBEDDING ->  2.09996 seconds\n",
      "    |_CBEventType.EMBEDDING ->  2.171173 seconds\n",
      "    |_CBEventType.EMBEDDING ->  1.858662 seconds\n",
      "    |_CBEventType.EMBEDDING ->  1.922601 seconds\n",
      "    |_CBEventType.EMBEDDING ->  1.977063 seconds\n",
      "    |_CBEventType.EMBEDDING ->  1.907426 seconds\n",
      "    |_CBEventType.EMBEDDING ->  1.760519 seconds\n",
      "    |_CBEventType.EMBEDDING ->  1.716882 seconds\n",
      "    |_CBEventType.EMBEDDING ->  2.999969 seconds\n",
      "    |_CBEventType.EMBEDDING ->  1.753737 seconds\n",
      "    |_CBEventType.EMBEDDING ->  1.767705 seconds\n",
      "    |_CBEventType.EMBEDDING ->  1.790254 seconds\n",
      "    |_CBEventType.EMBEDDING ->  2.015573 seconds\n",
      "    |_CBEventType.EMBEDDING ->  2.415867 seconds\n",
      "    |_CBEventType.EMBEDDING ->  2.474674 seconds\n",
      "    |_CBEventType.EMBEDDING ->  2.340164 seconds\n",
      "    |_CBEventType.EMBEDDING ->  1.99937 seconds\n",
      "    |_CBEventType.EMBEDDING ->  2.315941 seconds\n",
      "    |_CBEventType.EMBEDDING ->  1.46405 seconds\n",
      "**********\n"
     ]
    }
   ],
   "source": [
    "from llama_index.core.callbacks import LlamaDebugHandler\n",
    "from llama_index.core.callbacks import CallbackManager\n",
    "from llama_index.core import SimpleDirectoryReader, ServiceContext, set_global_service_context, StorageContext, \\\n",
    "    VectorStoreIndex\n",
    "\n",
    "documents = (\n",
    "    SimpleDirectoryReader(\n",
    "        input_dir = './data',\n",
    "        required_exts = [\".pdf\"])\n",
    "        .load_data()\n",
    ")\n",
    "\n",
    "llama_debug = LlamaDebugHandler(print_trace_on_end=True)\n",
    "callback_manager = CallbackManager([llama_debug])\n",
    "\n",
    "service_context = (\n",
    "    ServiceContext\n",
    "    .from_defaults(\n",
    "        llm=llm, \n",
    "        embed_model=\"local:BAAI/bge-small-en-v1.5\", \n",
    "        chunk_size=300,\n",
    "        callback_manager=callback_manager\n",
    "    )\n",
    ")\n",
    "set_global_service_context(service_context)\n",
    "\n",
    "nodes = (\n",
    "    service_context\n",
    "    .node_parser\n",
    "    .get_nodes_from_documents(documents)\n",
    ")\n",
    "\n",
    "storage_context = StorageContext.from_defaults()\n",
    "storage_context.docstore.add_documents(nodes)\n",
    "\n",
    "index = (\n",
    "    VectorStoreIndex\n",
    "    .from_documents(\n",
    "        documents, \n",
    "        storage_context=storage_context, \n",
    "        llm=llm\n",
    "        )\n",
    ")"
   ],
   "metadata": {
    "collapsed": false,
    "ExecuteTime": {
     "end_time": "2024-02-16T15:10:08.787759700Z",
     "start_time": "2024-02-16T15:08:12.010211300Z"
    }
   },
   "id": "74efbd322e7a93c4"
  },
  {
   "cell_type": "code",
   "execution_count": 21,
   "id": "fc5e234ae83f1db6",
   "metadata": {
    "collapsed": false,
    "ExecuteTime": {
     "end_time": "2024-02-16T15:10:08.788760Z",
     "start_time": "2024-02-16T15:10:08.772834600Z"
    }
   },
   "outputs": [],
   "source": [
    "import logging\n",
    "import sys\n",
    "\n",
    "logging.basicConfig(stream=sys.stdout, level=logging.INFO)\n",
    "logging.getLogger().addHandler(logging.StreamHandler(stream=sys.stdout))"
   ]
  },
  {
   "cell_type": "markdown",
   "id": "c3c1fa50ca401423",
   "metadata": {
    "collapsed": false
   },
   "source": [
    "# Creating an engine of llm\n",
    "Query engine has several types of use: simple querying, chat mode, stream chat. \n",
    "All of those can be used asynchronously. "
   ]
  },
  {
   "cell_type": "code",
   "execution_count": 22,
   "id": "4fbc998698652084",
   "metadata": {
    "collapsed": false,
    "ExecuteTime": {
     "end_time": "2024-02-16T15:10:08.789761600Z",
     "start_time": "2024-02-16T15:10:08.777215700Z"
    }
   },
   "outputs": [],
   "source": [
    "query_engine = index.as_query_engine()"
   ]
  },
  {
   "cell_type": "code",
   "execution_count": 23,
   "id": "b4fa83795975f806",
   "metadata": {
    "collapsed": false,
    "ExecuteTime": {
     "end_time": "2024-02-16T15:11:12.688607200Z",
     "start_time": "2024-02-16T15:10:08.780222300Z"
    }
   },
   "outputs": [
    {
     "name": "stdout",
     "output_type": "stream",
     "text": [
      "INFO:httpx:HTTP Request: POST http://localhost:11434/api/chat \"HTTP/1.1 200 OK\"\n",
      "HTTP Request: POST http://localhost:11434/api/chat \"HTTP/1.1 200 OK\"\n",
      "HTTP Request: POST http://localhost:11434/api/chat \"HTTP/1.1 200 OK\"\n",
      "HTTP Request: POST http://localhost:11434/api/chat \"HTTP/1.1 200 OK\"\n",
      "**********\n",
      "Trace: query\n",
      "    |_CBEventType.QUERY ->  63.902809 seconds\n",
      "      |_CBEventType.RETRIEVE ->  0.05602 seconds\n",
      "        |_CBEventType.EMBEDDING ->  0.033817 seconds\n",
      "      |_CBEventType.SYNTHESIZE ->  63.84627 seconds\n",
      "        |_CBEventType.TEMPLATING ->  0.0 seconds\n",
      "        |_CBEventType.LLM ->  63.83163 seconds\n",
      "**********\n",
      "Unit Structure:\n",
      "\n",
      "1.0 Objectives\n",
      "\n",
      "* Introduce the concept of Big Data\n",
      "* Discuss the characteristics of Data and Big Data\n",
      "* Provide an overview of the evolution of Big Data\n",
      "* Define Big Data and its challenges\n",
      "* Explain why Big Data is important\n",
      "* Describe the data warehouse environment and the difference between traditional business intelligence and Big Data analytics\n",
      "* Outline key roles in new Big Data ecosystems\n",
      "* Provide examples of Big Data analytics\n",
      "\n",
      "Review Questions:\n",
      "\n",
      "* What are the three types of digital data?\n",
      "* How does data generate information?\n",
      "* Can you explain the difference between structured, semi-structured, and unstructured data?\n"
     ]
    }
   ],
   "source": [
    "response = query_engine.query(\"Give me unit structure of Introduction to big data\")\n",
    "print(response)"
   ]
  },
  {
   "cell_type": "code",
   "execution_count": 24,
   "id": "1ef01016beb0f69d",
   "metadata": {
    "collapsed": false,
    "ExecuteTime": {
     "end_time": "2024-02-16T15:11:53.044972700Z",
     "start_time": "2024-02-16T15:11:12.688607200Z"
    }
   },
   "outputs": [
    {
     "name": "stdout",
     "output_type": "stream",
     "text": [
      "INFO:httpx:HTTP Request: POST http://localhost:11434/api/chat \"HTTP/1.1 200 OK\"\n",
      "HTTP Request: POST http://localhost:11434/api/chat \"HTTP/1.1 200 OK\"\n",
      "HTTP Request: POST http://localhost:11434/api/chat \"HTTP/1.1 200 OK\"\n",
      "HTTP Request: POST http://localhost:11434/api/chat \"HTTP/1.1 200 OK\"\n",
      "**********\n",
      "Trace: query\n",
      "    |_CBEventType.QUERY ->  40.348925 seconds\n",
      "      |_CBEventType.RETRIEVE ->  0.091674 seconds\n",
      "        |_CBEventType.EMBEDDING ->  0.078637 seconds\n",
      "      |_CBEventType.SYNTHESIZE ->  40.257251 seconds\n",
      "        |_CBEventType.TEMPLATING ->  0.0 seconds\n",
      "        |_CBEventType.LLM ->  40.252306 seconds\n",
      "**********\n",
      "The main objective of Big Data is to derive new value and create competitive advantage for organizations by leveraging their most valuable asset - information.\n"
     ]
    }
   ],
   "source": [
    "response = query_engine.query(\"What is main objective of Big Data\")\n",
    "print(response)"
   ]
  },
  {
   "cell_type": "code",
   "execution_count": 25,
   "id": "c3d37d2426d23ce6",
   "metadata": {
    "collapsed": false,
    "ExecuteTime": {
     "end_time": "2024-02-16T15:12:55.637222300Z",
     "start_time": "2024-02-16T15:11:53.046478200Z"
    }
   },
   "outputs": [
    {
     "name": "stdout",
     "output_type": "stream",
     "text": [
      "INFO:httpx:HTTP Request: POST http://localhost:11434/api/chat \"HTTP/1.1 200 OK\"\n",
      "HTTP Request: POST http://localhost:11434/api/chat \"HTTP/1.1 200 OK\"\n",
      "HTTP Request: POST http://localhost:11434/api/chat \"HTTP/1.1 200 OK\"\n",
      "HTTP Request: POST http://localhost:11434/api/chat \"HTTP/1.1 200 OK\"\n",
      "**********\n",
      "Trace: query\n",
      "    |_CBEventType.QUERY ->  62.575967 seconds\n",
      "      |_CBEventType.RETRIEVE ->  0.081366 seconds\n",
      "        |_CBEventType.EMBEDDING ->  0.064068 seconds\n",
      "      |_CBEventType.SYNTHESIZE ->  62.494601 seconds\n",
      "        |_CBEventType.TEMPLATING ->  0.0 seconds\n",
      "        |_CBEventType.LLM ->  62.490369 seconds\n",
      "**********\n",
      "Based on the provided context information, the key roles for the New Big Data Ecosystem are:\n",
      "\n",
      "1. Deep Analytical Talent: This group consists of technically savvy individuals with strong analytical skills. They possess a combination of skills to handle raw, unstructured data and apply complex analytical techniques at massive scales. Examples of current professions fitting into this group include statisticians, economists, mathematicians, and the new role of the Data Scientist.\n",
      "2. Data Savvy Professionals: This group has less technical depth but has a basic knowledge of statistics or machine learning and can define key questions that can be answered using advanced analytics.\n"
     ]
    }
   ],
   "source": [
    "response = query_engine.query(\"What is Key roles of the new big data ecosystems\")\n",
    "print(response)"
   ]
  },
  {
   "cell_type": "code",
   "execution_count": 26,
   "id": "b1c17d2ed36dd2ab",
   "metadata": {
    "collapsed": false,
    "ExecuteTime": {
     "end_time": "2024-02-16T15:12:55.638221900Z",
     "start_time": "2024-02-16T15:12:55.632996400Z"
    }
   },
   "outputs": [],
   "source": [
    "# Building "
   ]
  }
 ],
 "metadata": {
  "kernelspec": {
   "display_name": "Python 3 (ipykernel)",
   "language": "python",
   "name": "python3"
  },
  "language_info": {
   "codemirror_mode": {
    "name": "ipython",
    "version": 3
   },
   "file_extension": ".py",
   "mimetype": "text/x-python",
   "name": "python",
   "nbconvert_exporter": "python",
   "pygments_lexer": "ipython3",
   "version": "3.10.9"
  }
 },
 "nbformat": 4,
 "nbformat_minor": 5
}
